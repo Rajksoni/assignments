{
 "cells": [
  {
   "cell_type": "markdown",
   "id": "4a86ce4b",
   "metadata": {},
   "source": [
    "Q1. In the below elements which of them are values or an expression? eg:- values can be\n",
    " integer or string and expressions will be mathematical operators."
   ]
  },
  {
   "cell_type": "markdown",
   "id": "31cee30b",
   "metadata": {},
   "source": [
    "*                =>  expression"
   ]
  },
  {
   "cell_type": "markdown",
   "id": "a108e2c0",
   "metadata": {},
   "source": [
    "'hello'          => value"
   ]
  },
  {
   "cell_type": "markdown",
   "id": "438b5d38",
   "metadata": {},
   "source": [
    "-87.8            =>  value"
   ]
  },
  {
   "cell_type": "markdown",
   "id": "d717fcb2",
   "metadata": {},
   "source": [
    "-                => e6xpression"
   ]
  },
  {
   "cell_type": "markdown",
   "id": "5c4a04f9",
   "metadata": {},
   "source": [
    "/                => expression"
   ]
  },
  {
   "cell_type": "markdown",
   "id": "72af892e",
   "metadata": {},
   "source": [
    "+                => expression"
   ]
  },
  {
   "cell_type": "markdown",
   "id": "89f56e8f",
   "metadata": {},
   "source": [
    "6                => value"
   ]
  },
  {
   "cell_type": "markdown",
   "id": "fe4777d8",
   "metadata": {},
   "source": [
    "Q2. What is the difference between string and variable?"
   ]
  },
  {
   "cell_type": "markdown",
   "id": "cdb4b6d3",
   "metadata": {},
   "source": [
    "STRING - String is value in the form of text. It can written in single, double, triple quotes.\n",
    "VARIABLE - Variable is like a container which stores some data in it. It is the name given to any data."
   ]
  },
  {
   "cell_type": "markdown",
   "id": "ac461fc2",
   "metadata": {},
   "source": [
    "Q3. Describe three different data types."
   ]
  },
  {
   "cell_type": "markdown",
   "id": "f4402987",
   "metadata": {},
   "source": [
    "Following are the various data types-\n",
    "1. strings 2.intergers 3.floating type variables 4.booleans"
   ]
  },
  {
   "cell_type": "raw",
   "id": "16341538",
   "metadata": {},
   "source": [
    "1. Strings- These are the values in the form of text. they are written in quotes"
   ]
  },
  {
   "cell_type": "markdown",
   "id": "edc3461c",
   "metadata": {},
   "source": [
    "2.intergers- These are the numeric data in the form of complete numbers without any fractional part."
   ]
  },
  {
   "cell_type": "markdown",
   "id": "48f759dd",
   "metadata": {},
   "source": [
    "3. Floating type variables- These are also numeric data but having decimal format."
   ]
  },
  {
   "cell_type": "markdown",
   "id": "267adccc",
   "metadata": {},
   "source": [
    "Q4. What is an expression made up of? What do all expressions do?"
   ]
  },
  {
   "cell_type": "markdown",
   "id": "51b621d2",
   "metadata": {},
   "source": [
    "Expression are the combination of some values with the mathematical operators.\n",
    "they are used to show the outcomes or results and also used to evaluate the values."
   ]
  },
  {
   "cell_type": "markdown",
   "id": "604b36c2",
   "metadata": {},
   "source": [
    "Q5. This assignment statements, like spam = 10. What is the difference between an expression and a statement?"
   ]
  },
  {
   "cell_type": "markdown",
   "id": "84875286",
   "metadata": {},
   "source": [
    "An expression can evaluate, it includes mathematical operators like +, - ,* etc. And a statement is a text that can only printed using command."
   ]
  },
  {
   "cell_type": "markdown",
   "id": "a5035027",
   "metadata": {},
   "source": [
    "Q6. After running the following code, what does the variable bacon contain?\n",
    "bacon = 22\n",
    "bacon + 1"
   ]
  },
  {
   "cell_type": "markdown",
   "id": "add07ef6",
   "metadata": {},
   "source": [
    "ans is 23."
   ]
  },
  {
   "cell_type": "code",
   "execution_count": 1,
   "id": "331fc55b",
   "metadata": {},
   "outputs": [],
   "source": [
    "bacon = 22"
   ]
  },
  {
   "cell_type": "code",
   "execution_count": 2,
   "id": "27f0a4ae",
   "metadata": {},
   "outputs": [
    {
     "data": {
      "text/plain": [
       "23"
      ]
     },
     "execution_count": 2,
     "metadata": {},
     "output_type": "execute_result"
    }
   ],
   "source": [
    "bacon+1"
   ]
  },
  {
   "cell_type": "markdown",
   "id": "40d8385b",
   "metadata": {},
   "source": [
    "Q7. What should the values of the following two terms be?\n",
    "'spam' +'spamspam'\n",
    "'spam' * 3"
   ]
  },
  {
   "cell_type": "code",
   "execution_count": 3,
   "id": "6f7e0a75",
   "metadata": {},
   "outputs": [
    {
     "data": {
      "text/plain": [
       "'spamspamspam'"
      ]
     },
     "execution_count": 3,
     "metadata": {},
     "output_type": "execute_result"
    }
   ],
   "source": [
    "'spam'+ 'spamspam'"
   ]
  },
  {
   "cell_type": "code",
   "execution_count": 4,
   "id": "8ed7c1d3",
   "metadata": {},
   "outputs": [
    {
     "data": {
      "text/plain": [
       "'spamspamspam'"
      ]
     },
     "execution_count": 4,
     "metadata": {},
     "output_type": "execute_result"
    }
   ],
   "source": [
    "'spam'*3"
   ]
  },
  {
   "cell_type": "markdown",
   "id": "237f8210",
   "metadata": {},
   "source": [
    "Q8. Why is eggs a valid variable name while 100 is invalid?"
   ]
  },
  {
   "cell_type": "markdown",
   "id": "fea748fb",
   "metadata": {},
   "source": [
    "Because a varible's name cann't be started with a number. Varibles only can start with an alphabet or underscore."
   ]
  },
  {
   "cell_type": "markdown",
   "id": "9c64bf10",
   "metadata": {},
   "source": [
    "Q9. What three functions can be used to get the integer, floating-point number, or string\n",
    "version of a value?"
   ]
  },
  {
   "cell_type": "markdown",
   "id": "81d2b7a6",
   "metadata": {},
   "source": [
    "For string - str(value)\n",
    "for integer- int(value)\n",
    "for floating point number- float(value)"
   ]
  },
  {
   "cell_type": "markdown",
   "id": "d549d921",
   "metadata": {},
   "source": [
    "Q10. Why does this expression cause an error? How can you fix it?\n",
    "'I have eaten' + 99 + 'burritos.'"
   ]
  },
  {
   "cell_type": "markdown",
   "id": "8fa1a4f0",
   "metadata": {},
   "source": [
    "It is causing an error because strings can not be added with any number, only a string can be added with a string.\n",
    " The above error can be fised by converting the 99 in a string."
   ]
  },
  {
   "cell_type": "code",
   "execution_count": 7,
   "id": "4b00539a",
   "metadata": {},
   "outputs": [
    {
     "data": {
      "text/plain": [
       "'I have eaten 99 burritos.'"
      ]
     },
     "execution_count": 7,
     "metadata": {},
     "output_type": "execute_result"
    }
   ],
   "source": [
    "'I have eaten'+ ' 99 ' +'burritos.'"
   ]
  },
  {
   "cell_type": "code",
   "execution_count": null,
   "id": "19a0a284",
   "metadata": {},
   "outputs": [],
   "source": []
  }
 ],
 "metadata": {
  "kernelspec": {
   "display_name": "Python 3 (ipykernel)",
   "language": "python",
   "name": "python3"
  },
  "language_info": {
   "codemirror_mode": {
    "name": "ipython",
    "version": 3
   },
   "file_extension": ".py",
   "mimetype": "text/x-python",
   "name": "python",
   "nbconvert_exporter": "python",
   "pygments_lexer": "ipython3",
   "version": "3.9.12"
  }
 },
 "nbformat": 4,
 "nbformat_minor": 5
}
